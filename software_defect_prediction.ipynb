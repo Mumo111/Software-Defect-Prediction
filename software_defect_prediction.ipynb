{
  "nbformat": 4,
  "nbformat_minor": 0,
  "metadata": {
    "colab": {
      "provenance": [],
      "runtime_attributes": {
        "runtime_version": "2025.07"
      },
      "authorship_tag": "ABX9TyO6SA64zx9shNpfdsjtGral",
      "include_colab_link": true
    },
    "kernelspec": {
      "name": "python3",
      "display_name": "Python 3"
    },
    "language_info": {
      "name": "python"
    }
  },
  "cells": [
    {
      "cell_type": "markdown",
      "metadata": {
        "id": "view-in-github",
        "colab_type": "text"
      },
      "source": [
        "<a href=\"https://colab.research.google.com/github/Mumo111/Software-Defect-Prediction/blob/main/software_defect_prediction.ipynb\" target=\"_parent\"><img src=\"https://colab.research.google.com/assets/colab-badge.svg\" alt=\"Open In Colab\"/></a>"
      ]
    },
    {
      "cell_type": "code",
      "source": [
        "import pandas as pd\n",
        "import numpy as np\n",
        "from sklearn.ensemble import RandomForestClassifier\n",
        "from sklearn.model_selection import train_test_split\n",
        "from sklearn.metrics import accuracy_score\n",
        "import matplotlib.pyplot as plt\n",
        "\n",
        "print(\"=== SOFTWARE DEFECT PREDICTION ===\")\n",
        "\n",
        "# Generate simple data\n",
        "np.random.seed(42)\n",
        "data = {\n",
        "    'lines_of_code': np.random.lognormal(4, 1, 1000),\n",
        "    'complexity': np.random.lognormal(2, 0.8, 1000),\n",
        "    'defects': (np.random.random(1000) > 0.7).astype(int)\n",
        "}\n",
        "df = pd.DataFrame(data)\n",
        "\n",
        "print(f\"Dataset: {len(df)} samples\")\n",
        "print(f\"Defect rate: {df['defects'].mean():.2f}\")\n",
        "\n",
        "# Prepare features\n",
        "X = df[['lines_of_code', 'complexity']]\n",
        "y = df['defects']\n",
        "\n",
        "# Split data\n",
        "X_train, X_test, y_train, y_test = train_test_split(X, y, test_size=0.3, random_state=42)\n",
        "\n",
        "# Train model\n",
        "model = RandomForestClassifier(n_estimators=100, random_state=42)\n",
        "model.fit(X_train, y_train)\n",
        "\n",
        "# Make predictions\n",
        "y_pred = model.predict(X_test)\n",
        "accuracy = accuracy_score(y_test, y_pred)\n",
        "\n",
        "print(f\"Model Accuracy: {accuracy:.3f}\")\n",
        "\n",
        "# Save results\n",
        "df.to_csv('software_data.csv', index=False)\n",
        "print(\"✓ Saved: software_data.csv\")\n",
        "\n",
        "# Create simple plot\n",
        "plt.figure(figsize=(8, 6))\n",
        "plt.scatter(df['lines_of_code'], df['complexity'], c=df['defects'], cmap='coolwarm', alpha=0.6)\n",
        "plt.xlabel('Lines of Code')\n",
        "plt.ylabel('Complexity')\n",
        "plt.title('Software Defect Distribution')\n",
        "plt.colorbar(label='Defects (0=No, 1=Yes)')\n",
        "plt.savefig('defect_plot.png', dpi=300, bbox_inches='tight')\n",
        "plt.close()\n",
        "print(\"✓ Saved: defect_plot.png\")\n",
        "\n",
        "print(\"=== ANALYSIS COMPLETE ===\")"
      ],
      "metadata": {
        "colab": {
          "base_uri": "https://localhost:8080/"
        },
        "id": "pvETnT77Cc7a",
        "outputId": "ef339cf5-936f-425b-8a42-9589fa7dff34"
      },
      "execution_count": 6,
      "outputs": [
        {
          "output_type": "stream",
          "name": "stdout",
          "text": [
            "=== SOFTWARE DEFECT PREDICTION ===\n",
            "Dataset: 1000 samples\n",
            "Defect rate: 0.30\n",
            "Model Accuracy: 0.660\n",
            "✓ Saved: software_data.csv\n",
            "✓ Saved: defect_plot.png\n",
            "=== ANALYSIS COMPLETE ===\n"
          ]
        }
      ]
    },
    {
      "cell_type": "code",
      "source": [
        "import pandas as pd\n",
        "import numpy as np\n",
        "from xgboost import XGBClassifier\n",
        "from sklearn.model_selection import train_test_split\n",
        "from sklearn.metrics import accuracy_score, classification_report, confusion_matrix\n",
        "from sklearn.preprocessing import StandardScaler\n",
        "import matplotlib.pyplot as plt\n",
        "import seaborn as sns\n",
        "\n",
        "df = pd.read_csv('software_data.csv')\n",
        "\n",
        "print(\"Dataset shape:\", df.shape)\n",
        "print(\"Columns:\", df.columns.tolist())\n",
        "\n",
        "missing_values = df.isnull().sum()\n",
        "if missing_values.any():\n",
        "    print(\"Missing values found - filling with median/mode\")\n",
        "    numeric_cols = df.select_dtypes(include=[np.number]).columns\n",
        "    for col in numeric_cols:\n",
        "        if df[col].isnull().any():\n",
        "            df[col] = df[col].fillna(df[col].median())\n",
        "\n",
        "    categorical_cols = df.select_dtypes(include=['object']).columns\n",
        "    for col in categorical_cols:\n",
        "        if df[col].isnull().any():\n",
        "            df[col] = df[col].fillna(df[col].mode()[0])\n",
        "\n",
        "df = df.drop_duplicates()\n",
        "\n",
        "target_column = 'defect'\n",
        "if target_column not in df.columns:\n",
        "    target_column = df.columns[-1]\n",
        "    print(\"Using column as target:\", target_column)\n",
        "\n",
        "X = df.drop(columns=[target_column])\n",
        "y = df[target_column]\n",
        "\n",
        "X_train, X_test, y_train, y_test = train_test_split(\n",
        "    X, y, test_size=0.2, random_state=42, stratify=y\n",
        ")\n",
        "\n",
        "class_ratio = len(y_train[y_train == 0]) / len(y_train[y_train == 1])\n",
        "\n",
        "scaler = StandardScaler()\n",
        "X_train_scaled = scaler.fit_transform(X_train)\n",
        "X_test_scaled = scaler.transform(X_test)\n",
        "\n",
        "model = XGBClassifier(\n",
        "    scale_pos_weight=class_ratio,\n",
        "    max_depth=6,\n",
        "    learning_rate=0.1,\n",
        "    n_estimators=200,\n",
        "    subsample=0.8,\n",
        "    colsample_bytree=0.8,\n",
        "    random_state=42,\n",
        "    eval_metric='logloss'\n",
        ")\n",
        "\n",
        "model.fit(X_train_scaled, y_train)\n",
        "\n",
        "y_pred = model.predict(X_test_scaled)\n",
        "\n",
        "accuracy = accuracy_score(y_test, y_pred)\n",
        "print(\"Model Accuracy:\", accuracy)\n",
        "print(\"Improvement:\", accuracy - 0.66)\n",
        "\n",
        "print(classification_report(y_test, y_pred))\n",
        "\n",
        "plt.figure(figsize=(10, 6))\n",
        "feature_importance = model.feature_importances_\n",
        "features = X.columns\n",
        "indices = np.argsort(feature_importance)[::-1]\n",
        "\n",
        "plt.bar(range(len(feature_importance)), feature_importance[indices])\n",
        "plt.xticks(range(len(feature_importance)), [features[i] for i in indices], rotation=45)\n",
        "plt.title(\"Feature Importance\")\n",
        "plt.tight_layout()\n",
        "plt.savefig('feature_importance.png')\n",
        "plt.show()\n",
        "\n",
        "print(\"XGBoost implementation complete!\")"
      ],
      "metadata": {
        "colab": {
          "base_uri": "https://localhost:8080/",
          "height": 820
        },
        "id": "rYsjvxnQFiwp",
        "outputId": "b7cfe2bd-7b50-459c-ce3c-5e97a7544621"
      },
      "execution_count": 7,
      "outputs": [
        {
          "output_type": "stream",
          "name": "stdout",
          "text": [
            "Dataset shape: (1000, 3)\n",
            "Columns: ['lines_of_code', 'complexity', 'defects']\n",
            "Using column as target: defects\n",
            "Model Accuracy: 0.58\n",
            "Improvement: -0.08000000000000007\n",
            "              precision    recall  f1-score   support\n",
            "\n",
            "           0       0.74      0.62      0.67       139\n",
            "           1       0.36      0.49      0.42        61\n",
            "\n",
            "    accuracy                           0.58       200\n",
            "   macro avg       0.55      0.56      0.54       200\n",
            "weighted avg       0.62      0.58      0.59       200\n",
            "\n"
          ]
        },
        {
          "output_type": "display_data",
          "data": {
            "text/plain": [
              "<Figure size 1000x600 with 1 Axes>"
            ],
            "image/png": "[encoded data removed]"
          },
          "metadata": {}
        },
        {
          "output_type": "stream",
          "name": "stdout",
          "text": [
            "XGBoost implementation complete!\n"
          ]
        }
      ]
    }
  ]
}